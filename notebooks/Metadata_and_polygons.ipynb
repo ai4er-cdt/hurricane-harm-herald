{
  "nbformat": 4,
  "nbformat_minor": 0,
  "metadata": {
    "colab": {
      "provenance": []
    },
    "kernelspec": {
      "name": "python3",
      "display_name": "Python 3"
    },
    "language_info": {
      "name": "python"
    }
  },
  "cells": [
    {
      "cell_type": "markdown",
      "source": [
        "# Inspired by Medium part 3 explore xview"
      ],
      "metadata": {
        "id": "EqTslBKsVzei"
      }
    },
    {
      "cell_type": "code",
      "source": [
        "import numpy as np\n",
        "import pandas as pd\n",
        "#import geopandas as gpd\n",
        "import json\n",
        "import matplotlib.pyplot as plt\n",
        "\n",
        "from shapely import wkt\n",
        "import os\n",
        "\n",
        "!pip install rasterio\n",
        "!pip install geopandas\n",
        "!pip install rioxarray\n",
        "\n",
        "import rasterio as rio\n",
        "from rasterio.plot import show\n",
        "from rasterio.warp import transform_bounds\n",
        "from rasterio.crs import CRS\n",
        "from rasterio.mask import mask\n",
        "import geopandas as gpd\n",
        "import rioxarray as rxr"
      ],
      "metadata": {
        "colab": {
          "base_uri": "https://localhost:8080/"
        },
        "id": "PbgBAYY2VxIy",
        "outputId": "f2b82ec7-8b4b-4edc-f998-f9da2fe3b9f0"
      },
      "execution_count": 16,
      "outputs": [
        {
          "output_type": "stream",
          "name": "stdout",
          "text": [
            "Looking in indexes: https://pypi.org/simple, https://us-python.pkg.dev/colab-wheels/public/simple/\n",
            "Collecting rasterio\n",
            "  Downloading rasterio-1.3.5-cp38-cp38-manylinux_2_17_x86_64.manylinux2014_x86_64.whl (20.9 MB)\n",
            "\u001b[2K     \u001b[90m━━━━━━━━━━━━━━━━━━━━━━━━━━━━━━━━━━━━━━━━\u001b[0m \u001b[32m20.9/20.9 MB\u001b[0m \u001b[31m39.2 MB/s\u001b[0m eta \u001b[36m0:00:00\u001b[0m\n",
            "\u001b[?25hRequirement already satisfied: click>=4.0 in /usr/local/lib/python3.8/dist-packages (from rasterio) (7.1.2)\n",
            "Collecting snuggs>=1.4.1\n",
            "  Downloading snuggs-1.4.7-py3-none-any.whl (5.4 kB)\n",
            "Requirement already satisfied: certifi in /usr/local/lib/python3.8/dist-packages (from rasterio) (2022.12.7)\n",
            "Requirement already satisfied: numpy>=1.18 in /usr/local/lib/python3.8/dist-packages (from rasterio) (1.21.6)\n",
            "Collecting click-plugins\n",
            "  Downloading click_plugins-1.1.1-py2.py3-none-any.whl (7.5 kB)\n",
            "Requirement already satisfied: setuptools in /usr/local/lib/python3.8/dist-packages (from rasterio) (57.4.0)\n",
            "Requirement already satisfied: attrs in /usr/local/lib/python3.8/dist-packages (from rasterio) (22.2.0)\n",
            "Collecting affine\n",
            "  Downloading affine-2.4.0-py3-none-any.whl (15 kB)\n",
            "Collecting cligj>=0.5\n",
            "  Downloading cligj-0.7.2-py3-none-any.whl (7.1 kB)\n",
            "Requirement already satisfied: pyparsing>=2.1.6 in /usr/local/lib/python3.8/dist-packages (from snuggs>=1.4.1->rasterio) (3.0.9)\n",
            "Installing collected packages: snuggs, cligj, click-plugins, affine, rasterio\n",
            "Successfully installed affine-2.4.0 click-plugins-1.1.1 cligj-0.7.2 rasterio-1.3.5 snuggs-1.4.7\n",
            "Looking in indexes: https://pypi.org/simple, https://us-python.pkg.dev/colab-wheels/public/simple/\n",
            "Collecting geopandas\n",
            "  Downloading geopandas-0.12.2-py3-none-any.whl (1.1 MB)\n",
            "\u001b[2K     \u001b[90m━━━━━━━━━━━━━━━━━━━━━━━━━━━━━━━━━━━━━━━━\u001b[0m \u001b[32m1.1/1.1 MB\u001b[0m \u001b[31m21.6 MB/s\u001b[0m eta \u001b[36m0:00:00\u001b[0m\n",
            "\u001b[?25hRequirement already satisfied: packaging in /usr/local/lib/python3.8/dist-packages (from geopandas) (21.3)\n",
            "Requirement already satisfied: shapely>=1.7 in /usr/local/lib/python3.8/dist-packages (from geopandas) (2.0.0)\n",
            "Collecting fiona>=1.8\n",
            "  Downloading Fiona-1.8.22-cp38-cp38-manylinux_2_17_x86_64.manylinux2014_x86_64.whl (16.6 MB)\n",
            "\u001b[2K     \u001b[90m━━━━━━━━━━━━━━━━━━━━━━━━━━━━━━━━━━━━━━━━\u001b[0m \u001b[32m16.6/16.6 MB\u001b[0m \u001b[31m62.3 MB/s\u001b[0m eta \u001b[36m0:00:00\u001b[0m\n",
            "\u001b[?25hRequirement already satisfied: pandas>=1.0.0 in /usr/local/lib/python3.8/dist-packages (from geopandas) (1.3.5)\n",
            "Collecting pyproj>=2.6.1.post1\n",
            "  Downloading pyproj-3.4.1-cp38-cp38-manylinux_2_17_x86_64.manylinux2014_x86_64.whl (7.8 MB)\n",
            "\u001b[2K     \u001b[90m━━━━━━━━━━━━━━━━━━━━━━━━━━━━━━━━━━━━━━━━\u001b[0m \u001b[32m7.8/7.8 MB\u001b[0m \u001b[31m84.1 MB/s\u001b[0m eta \u001b[36m0:00:00\u001b[0m\n",
            "\u001b[?25hRequirement already satisfied: attrs>=17 in /usr/local/lib/python3.8/dist-packages (from fiona>=1.8->geopandas) (22.2.0)\n",
            "Requirement already satisfied: click-plugins>=1.0 in /usr/local/lib/python3.8/dist-packages (from fiona>=1.8->geopandas) (1.1.1)\n",
            "Requirement already satisfied: certifi in /usr/local/lib/python3.8/dist-packages (from fiona>=1.8->geopandas) (2022.12.7)\n",
            "Requirement already satisfied: six>=1.7 in /usr/local/lib/python3.8/dist-packages (from fiona>=1.8->geopandas) (1.15.0)\n",
            "Requirement already satisfied: click>=4.0 in /usr/local/lib/python3.8/dist-packages (from fiona>=1.8->geopandas) (7.1.2)\n",
            "Collecting munch\n",
            "  Downloading munch-2.5.0-py2.py3-none-any.whl (10 kB)\n",
            "Requirement already satisfied: setuptools in /usr/local/lib/python3.8/dist-packages (from fiona>=1.8->geopandas) (57.4.0)\n",
            "Requirement already satisfied: cligj>=0.5 in /usr/local/lib/python3.8/dist-packages (from fiona>=1.8->geopandas) (0.7.2)\n",
            "Requirement already satisfied: python-dateutil>=2.7.3 in /usr/local/lib/python3.8/dist-packages (from pandas>=1.0.0->geopandas) (2.8.2)\n",
            "Requirement already satisfied: numpy>=1.17.3 in /usr/local/lib/python3.8/dist-packages (from pandas>=1.0.0->geopandas) (1.21.6)\n",
            "Requirement already satisfied: pytz>=2017.3 in /usr/local/lib/python3.8/dist-packages (from pandas>=1.0.0->geopandas) (2022.7)\n",
            "Requirement already satisfied: pyparsing!=3.0.5,>=2.0.2 in /usr/local/lib/python3.8/dist-packages (from packaging->geopandas) (3.0.9)\n",
            "Installing collected packages: pyproj, munch, fiona, geopandas\n",
            "Successfully installed fiona-1.8.22 geopandas-0.12.2 munch-2.5.0 pyproj-3.4.1\n",
            "Looking in indexes: https://pypi.org/simple, https://us-python.pkg.dev/colab-wheels/public/simple/\n",
            "Collecting rioxarray\n",
            "  Downloading rioxarray-0.13.3-py3-none-any.whl (53 kB)\n",
            "\u001b[2K     \u001b[90m━━━━━━━━━━━━━━━━━━━━━━━━━━━━━━━━━━━━━━━━\u001b[0m \u001b[32m53.3/53.3 KB\u001b[0m \u001b[31m5.4 MB/s\u001b[0m eta \u001b[36m0:00:00\u001b[0m\n",
            "\u001b[?25hRequirement already satisfied: rasterio>=1.1.1 in /usr/local/lib/python3.8/dist-packages (from rioxarray) (1.3.5)\n",
            "Requirement already satisfied: xarray>=0.17 in /usr/local/lib/python3.8/dist-packages (from rioxarray) (2022.12.0)\n",
            "Requirement already satisfied: packaging in /usr/local/lib/python3.8/dist-packages (from rioxarray) (21.3)\n",
            "Requirement already satisfied: pyproj>=2.2 in /usr/local/lib/python3.8/dist-packages (from rioxarray) (3.4.1)\n",
            "Requirement already satisfied: certifi in /usr/local/lib/python3.8/dist-packages (from pyproj>=2.2->rioxarray) (2022.12.7)\n",
            "Requirement already satisfied: setuptools in /usr/local/lib/python3.8/dist-packages (from rasterio>=1.1.1->rioxarray) (57.4.0)\n",
            "Requirement already satisfied: click>=4.0 in /usr/local/lib/python3.8/dist-packages (from rasterio>=1.1.1->rioxarray) (7.1.2)\n",
            "Requirement already satisfied: snuggs>=1.4.1 in /usr/local/lib/python3.8/dist-packages (from rasterio>=1.1.1->rioxarray) (1.4.7)\n",
            "Requirement already satisfied: click-plugins in /usr/local/lib/python3.8/dist-packages (from rasterio>=1.1.1->rioxarray) (1.1.1)\n",
            "Requirement already satisfied: cligj>=0.5 in /usr/local/lib/python3.8/dist-packages (from rasterio>=1.1.1->rioxarray) (0.7.2)\n",
            "Requirement already satisfied: attrs in /usr/local/lib/python3.8/dist-packages (from rasterio>=1.1.1->rioxarray) (22.2.0)\n",
            "Requirement already satisfied: affine in /usr/local/lib/python3.8/dist-packages (from rasterio>=1.1.1->rioxarray) (2.4.0)\n",
            "Requirement already satisfied: numpy>=1.18 in /usr/local/lib/python3.8/dist-packages (from rasterio>=1.1.1->rioxarray) (1.21.6)\n",
            "Requirement already satisfied: pandas>=1.3 in /usr/local/lib/python3.8/dist-packages (from xarray>=0.17->rioxarray) (1.3.5)\n",
            "Requirement already satisfied: pyparsing!=3.0.5,>=2.0.2 in /usr/local/lib/python3.8/dist-packages (from packaging->rioxarray) (3.0.9)\n",
            "Requirement already satisfied: pytz>=2017.3 in /usr/local/lib/python3.8/dist-packages (from pandas>=1.3->xarray>=0.17->rioxarray) (2022.7)\n",
            "Requirement already satisfied: python-dateutil>=2.7.3 in /usr/local/lib/python3.8/dist-packages (from pandas>=1.3->xarray>=0.17->rioxarray) (2.8.2)\n",
            "Requirement already satisfied: six>=1.5 in /usr/local/lib/python3.8/dist-packages (from python-dateutil>=2.7.3->pandas>=1.3->xarray>=0.17->rioxarray) (1.15.0)\n",
            "Installing collected packages: rioxarray\n",
            "Successfully installed rioxarray-0.13.3\n"
          ]
        }
      ]
    },
    {
      "cell_type": "code",
      "execution_count": 2,
      "metadata": {
        "colab": {
          "base_uri": "https://localhost:8080/"
        },
        "id": "e5648d1NVml3",
        "outputId": "2bfb3795-12ea-4459-d4d9-7e8a3abce2c5"
      },
      "outputs": [
        {
          "output_type": "stream",
          "name": "stdout",
          "text": [
            "Mounted at /content/drive\n"
          ]
        }
      ],
      "source": [
        "from google.colab import drive\n",
        "drive.mount('/content/drive')"
      ]
    },
    {
      "cell_type": "markdown",
      "source": [
        "# Extract imagery and meta-data"
      ],
      "metadata": {
        "id": "3prJUkLcK5R-"
      }
    },
    {
      "cell_type": "code",
      "source": [
        "%cd /content/drive/MyDrive/hurricane-harm-herald/data/xBD_data"
      ],
      "metadata": {
        "colab": {
          "base_uri": "https://localhost:8080/"
        },
        "id": "CE5CagqsWFpj",
        "outputId": "7cfc0cb9-ee8c-4567-f4bf-ff37a7d4e2b1"
      },
      "execution_count": 3,
      "outputs": [
        {
          "output_type": "stream",
          "name": "stdout",
          "text": [
            "/content/drive/MyDrive/hurricane-harm-herald/data/xBD_data\n"
          ]
        }
      ]
    },
    {
      "cell_type": "code",
      "source": [
        "# fetch all post disaster json files\n",
        "import fnmatch\n",
        "import os\n",
        "\n",
        "# or list: print([f for f in os.listdir(xbd_json_directory) if fnmatch.fnmatch(f, 'hurricane*post*json')])\n",
        "def extract_posthurr(which_directory, search_criteria):\n",
        "  list_of_files = []\n",
        "  for f in os.listdir(which_directory):\n",
        "    if fnmatch.fnmatch(f, search_criteria):\n",
        "      list_of_files.append(f)\n",
        "  return list_of_files\n",
        "\n",
        "xbd_json_directory = \"/content/drive/MyDrive/hurricane-harm-herald/data/xBD_data/geotiffs/hold/labels\"\n",
        "posthurr_json_files = extract_posthurr(xbd_json_directory,'hurricane*post*.json')"
      ],
      "metadata": {
        "id": "pDnBgsoiWPIi"
      },
      "execution_count": 4,
      "outputs": []
    },
    {
      "cell_type": "code",
      "source": [
        "# Which hurricanes do we have?\n",
        "def hurricane_labels(posthurr_files ):\n",
        "  disaster_labels = []\n",
        "  for label in posthurr_files:\n",
        "    disaster_type = label.split(\"_\")[0]\n",
        "    #disaster_name = disaster_type.split(\"_\")[1]\n",
        "    disaster_labels.append(disaster_type)\n",
        "    #disaster_labels.append([disaster_type, disaster_name])\n",
        "  return disaster_labels\n",
        "\n",
        "hurricane_labels = hurricane_labels(posthurr_json_files)\n",
        "unique_hurricane_labels = list(set(hurricane_labels))\n",
        "unique_hurricane_labels \n"
      ],
      "metadata": {
        "colab": {
          "base_uri": "https://localhost:8080/"
        },
        "id": "b2ZZF__mXAzO",
        "outputId": "55abc237-c030-4d70-a983-bbf2f69e68df"
      },
      "execution_count": 5,
      "outputs": [
        {
          "output_type": "execute_result",
          "data": {
            "text/plain": [
              "['hurricane-florence',\n",
              " 'hurricane-matthew',\n",
              " 'hurricane-harvey',\n",
              " 'hurricane-michael']"
            ]
          },
          "metadata": {},
          "execution_count": 5
        }
      ]
    },
    {
      "cell_type": "code",
      "source": [
        "# select specific disaster\n",
        "disaster_name = unique_hurricane_labels[0]\n",
        "disaster_name"
      ],
      "metadata": {
        "colab": {
          "base_uri": "https://localhost:8080/",
          "height": 35
        },
        "id": "R7WDw2NSG_6M",
        "outputId": "c6a8b37c-24a9-498d-939b-8309ed74a1fc"
      },
      "execution_count": 6,
      "outputs": [
        {
          "output_type": "execute_result",
          "data": {
            "text/plain": [
              "'hurricane-florence'"
            ],
            "application/vnd.google.colaboratory.intrinsic+json": {
              "type": "string"
            }
          },
          "metadata": {},
          "execution_count": 6
        }
      ]
    },
    {
      "cell_type": "code",
      "source": [
        "!pwd"
      ],
      "metadata": {
        "colab": {
          "base_uri": "https://localhost:8080/"
        },
        "id": "KcgrXaKnJg-X",
        "outputId": "c6abdd5d-35a4-4737-880a-03e0fb208746"
      },
      "execution_count": 7,
      "outputs": [
        {
          "output_type": "stream",
          "name": "stdout",
          "text": [
            "/content/drive/MyDrive/hurricane-harm-herald/data/xBD_data\n"
          ]
        }
      ]
    },
    {
      "cell_type": "code",
      "source": [
        "# extract all hurricane_florence json files\n",
        "#json_search_terms = disaster_name + \"*post*json\"\n",
        "#florence_json = extract_posthurr(xbd_json_directory, json_search_terms)\n",
        "xbd_json_directory = \"/content/drive/MyDrive/hurricane-harm-herald/data/xBD_data/geotiffs/hold/labels\"\n",
        "florence_json = extract_posthurr(xbd_json_directory, 'hurricane*florence*post*.json')\n",
        "\n",
        "# extract all hurricane florence image files\n",
        "xbd_tif_directory = \"/content/drive/MyDrive/hurricane-harm-herald/data/xBD_data/geotiffs/hold/images\"\n",
        "#tif_search_terms = disaster_name + \"*post*tif\"\n",
        "florence_tif = extract_posthurr(xbd_tif_directory, 'hurricane*florence*post*.tif')"
      ],
      "metadata": {
        "id": "ZKVCfZ5WH5mr"
      },
      "execution_count": 111,
      "outputs": []
    },
    {
      "cell_type": "markdown",
      "source": [
        "# Start plotting"
      ],
      "metadata": {
        "id": "CadOc2eOLB8q"
      }
    },
    {
      "cell_type": "code",
      "source": [
        "# Color codes for different damage classes (Joint Damage Scale)\n",
        "damage_dict = {\n",
        "    \"no-damage\": (0, 255, 0, 50),\n",
        "    \"minor-damage\": (0, 0, 255, 50),\n",
        "    \"major-damage\": (255, 69, 0, 50),\n",
        "    \"destroyed\": (255, 0, 0, 50),\n",
        "    \"un-classified\": (255, 255, 255, 50)\n",
        "}\n",
        "\n",
        "# Color codes for different damage classes (Joint Damage Scale)\n",
        "classes_dict = {\n",
        "    \"no-damage\": 0,\n",
        "    \"minor-damage\": 1,\n",
        "    \"major-damage\": 2,\n",
        "    \"destroyed\": 3,\n",
        "    \"un-classified\": 4\n",
        "}"
      ],
      "metadata": {
        "id": "JIY4MBtTGUqO"
      },
      "execution_count": 228,
      "outputs": []
    },
    {
      "cell_type": "code",
      "source": [
        "def extract_metadata(json_link, format, classes_dict):\n",
        "  json_file = open(json_link)\n",
        "  json_data = json.load(json_file)\n",
        "  meta_data = json_data['metadata']\n",
        "  image_name = meta_data['img_name']\n",
        "  coordinates = json_data['features']['xy']\n",
        "\n",
        "  damage_location = []\n",
        "  damage_dict = {}\n",
        "  if format == 'point':\n",
        "      def extract_location(building):\n",
        "        building_polygon = building['wkt']\n",
        "        building_coordinates = wkt.loads(building_polygon).centroid.wkt\n",
        "        return building_coordinates\n",
        "  if format == 'polygon':\n",
        "    def extract_location(building):\n",
        "        building_polygon = building['wkt']\n",
        "        return building_polygon\n",
        "  # add exit line if no good answer is given\n",
        "\n",
        "  for building in coordinates:\n",
        "    building_loc = extract_location(building)\n",
        "    damage_class = building['properties']['subtype']\n",
        "    damage_num = classes_dict[damage_class]\n",
        "    \n",
        "    damage_location.append([building_loc, damage_num])\n",
        "    damage_dict.update({damage_num:building_loc})\n",
        "  df = GeoDataFrame(damage_location, columns = ['geometry', 'damage class'])\n",
        "  #print(polygons)\n",
        " # d = {'damage class': damage_num, 'geometry': extract_location(building)}\n",
        " # gdf = geopandas.GeoDataFrame(d)\n",
        "  \n",
        "  return df"
      ],
      "metadata": {
        "id": "sFSXAjNrLKIo"
      },
      "execution_count": 274,
      "outputs": []
    },
    {
      "cell_type": "code",
      "source": [
        "from geopandas import GeoDataFrame\n",
        "json_link = \"/content/drive/MyDrive/hurricane-harm-herald/data/xBD_data/geotiffs/hold/labels/\" + florence_json[0]\n",
        "polygon_damage = extract_metadata(json_link, 'polygon', classes_dict)\n",
        "polygon_damage"
      ],
      "metadata": {
        "colab": {
          "base_uri": "https://localhost:8080/",
          "height": 112
        },
        "id": "3ChgJ_v9PNTB",
        "outputId": "b7f8a569-441a-445f-f761-1e7d630d6472"
      },
      "execution_count": 275,
      "outputs": [
        {
          "output_type": "execute_result",
          "data": {
            "text/plain": [
              "                                            geometry  damage class\n",
              "0  POLYGON ((247.3120843129568 0.0100522531708349...             2\n",
              "1  POLYGON ((126.1624075440996 65.34934444046426,...             1"
            ],
            "text/html": [
              "\n",
              "  <div id=\"df-041a63d5-94c4-4d31-b8a8-8c27cefd473e\">\n",
              "    <div class=\"colab-df-container\">\n",
              "      <div>\n",
              "<style scoped>\n",
              "    .dataframe tbody tr th:only-of-type {\n",
              "        vertical-align: middle;\n",
              "    }\n",
              "\n",
              "    .dataframe tbody tr th {\n",
              "        vertical-align: top;\n",
              "    }\n",
              "\n",
              "    .dataframe thead th {\n",
              "        text-align: right;\n",
              "    }\n",
              "</style>\n",
              "<table border=\"1\" class=\"dataframe\">\n",
              "  <thead>\n",
              "    <tr style=\"text-align: right;\">\n",
              "      <th></th>\n",
              "      <th>geometry</th>\n",
              "      <th>damage class</th>\n",
              "    </tr>\n",
              "  </thead>\n",
              "  <tbody>\n",
              "    <tr>\n",
              "      <th>0</th>\n",
              "      <td>POLYGON ((247.3120843129568 0.0100522531708349...</td>\n",
              "      <td>2</td>\n",
              "    </tr>\n",
              "    <tr>\n",
              "      <th>1</th>\n",
              "      <td>POLYGON ((126.1624075440996 65.34934444046426,...</td>\n",
              "      <td>1</td>\n",
              "    </tr>\n",
              "  </tbody>\n",
              "</table>\n",
              "</div>\n",
              "      <button class=\"colab-df-convert\" onclick=\"convertToInteractive('df-041a63d5-94c4-4d31-b8a8-8c27cefd473e')\"\n",
              "              title=\"Convert this dataframe to an interactive table.\"\n",
              "              style=\"display:none;\">\n",
              "        \n",
              "  <svg xmlns=\"http://www.w3.org/2000/svg\" height=\"24px\"viewBox=\"0 0 24 24\"\n",
              "       width=\"24px\">\n",
              "    <path d=\"M0 0h24v24H0V0z\" fill=\"none\"/>\n",
              "    <path d=\"M18.56 5.44l.94 2.06.94-2.06 2.06-.94-2.06-.94-.94-2.06-.94 2.06-2.06.94zm-11 1L8.5 8.5l.94-2.06 2.06-.94-2.06-.94L8.5 2.5l-.94 2.06-2.06.94zm10 10l.94 2.06.94-2.06 2.06-.94-2.06-.94-.94-2.06-.94 2.06-2.06.94z\"/><path d=\"M17.41 7.96l-1.37-1.37c-.4-.4-.92-.59-1.43-.59-.52 0-1.04.2-1.43.59L10.3 9.45l-7.72 7.72c-.78.78-.78 2.05 0 2.83L4 21.41c.39.39.9.59 1.41.59.51 0 1.02-.2 1.41-.59l7.78-7.78 2.81-2.81c.8-.78.8-2.07 0-2.86zM5.41 20L4 18.59l7.72-7.72 1.47 1.35L5.41 20z\"/>\n",
              "  </svg>\n",
              "      </button>\n",
              "      \n",
              "  <style>\n",
              "    .colab-df-container {\n",
              "      display:flex;\n",
              "      flex-wrap:wrap;\n",
              "      gap: 12px;\n",
              "    }\n",
              "\n",
              "    .colab-df-convert {\n",
              "      background-color: #E8F0FE;\n",
              "      border: none;\n",
              "      border-radius: 50%;\n",
              "      cursor: pointer;\n",
              "      display: none;\n",
              "      fill: #1967D2;\n",
              "      height: 32px;\n",
              "      padding: 0 0 0 0;\n",
              "      width: 32px;\n",
              "    }\n",
              "\n",
              "    .colab-df-convert:hover {\n",
              "      background-color: #E2EBFA;\n",
              "      box-shadow: 0px 1px 2px rgba(60, 64, 67, 0.3), 0px 1px 3px 1px rgba(60, 64, 67, 0.15);\n",
              "      fill: #174EA6;\n",
              "    }\n",
              "\n",
              "    [theme=dark] .colab-df-convert {\n",
              "      background-color: #3B4455;\n",
              "      fill: #D2E3FC;\n",
              "    }\n",
              "\n",
              "    [theme=dark] .colab-df-convert:hover {\n",
              "      background-color: #434B5C;\n",
              "      box-shadow: 0px 1px 3px 1px rgba(0, 0, 0, 0.15);\n",
              "      filter: drop-shadow(0px 1px 2px rgba(0, 0, 0, 0.3));\n",
              "      fill: #FFFFFF;\n",
              "    }\n",
              "  </style>\n",
              "\n",
              "      <script>\n",
              "        const buttonEl =\n",
              "          document.querySelector('#df-041a63d5-94c4-4d31-b8a8-8c27cefd473e button.colab-df-convert');\n",
              "        buttonEl.style.display =\n",
              "          google.colab.kernel.accessAllowed ? 'block' : 'none';\n",
              "\n",
              "        async function convertToInteractive(key) {\n",
              "          const element = document.querySelector('#df-041a63d5-94c4-4d31-b8a8-8c27cefd473e');\n",
              "          const dataTable =\n",
              "            await google.colab.kernel.invokeFunction('convertToInteractive',\n",
              "                                                     [key], {});\n",
              "          if (!dataTable) return;\n",
              "\n",
              "          const docLinkHtml = 'Like what you see? Visit the ' +\n",
              "            '<a target=\"_blank\" href=https://colab.research.google.com/notebooks/data_table.ipynb>data table notebook</a>'\n",
              "            + ' to learn more about interactive tables.';\n",
              "          element.innerHTML = '';\n",
              "          dataTable['output_type'] = 'display_data';\n",
              "          await google.colab.output.renderOutput(dataTable, element);\n",
              "          const docLink = document.createElement('div');\n",
              "          docLink.innerHTML = docLinkHtml;\n",
              "          element.appendChild(docLink);\n",
              "        }\n",
              "      </script>\n",
              "    </div>\n",
              "  </div>\n",
              "  "
            ]
          },
          "metadata": {},
          "execution_count": 275
        }
      ]
    },
    {
      "cell_type": "code",
      "source": [
        "from osgeo import gdal\n",
        "import matplotlib.pyplot as plt"
      ],
      "metadata": {
        "id": "Yv18T-6JL_Ph"
      },
      "execution_count": 296,
      "outputs": []
    },
    {
      "cell_type": "code",
      "source": [
        "from rasterio.plot import show\n",
        "def plot_image_label(json_label, tif_dir, damage_dict, classes_dict):\n",
        "  # get information on damage and polygons in pandas dataframe\n",
        "  polygon_damage = extract_metadata(json_label, 'polygon', classes_dict)\n",
        "\n",
        "  # plot imagery file\n",
        "  building_image_path = json_label.replace('labels', 'images').replace('json','tif')\n",
        "  img = rasterio.open(building_image_path)\n",
        "\n",
        "  gdal_img = gdal.Open(building_image_path)\n",
        "  band1 = gdal_img.GetRasterBand(1).ReadAsArray()\n",
        "  band2 = gdal_img.GetRasterBand(2).ReadAsArray()\n",
        "  band3 = gdal_img.GetRasterBand(3).ReadAsArray()\n",
        "\n",
        "  extent=[img.bounds[0], img.bounds[2], img.bounds[1], img.bounds[3]]\n",
        "  img = np.dstack((band1, band2, band3))\n",
        "  f = plt.figure()\n",
        "  plt.imshow(img)\n",
        "  plt.show()\n",
        "\n",
        "  polygon_damage['geometry'] = gpd.GeoSeries.from_wkt(polygon_damage['geometry'])\n",
        "  my_geo_df = gpd.GeoDataFrame(polygon_damage, geometry='geometry')\n",
        "\n",
        "  my_geo_df.plot(column = \"damage class\")"
      ],
      "metadata": {
        "id": "LQMBDoY_3EYF"
      },
      "execution_count": 375,
      "outputs": []
    },
    {
      "cell_type": "code",
      "source": [
        "from PIL import Image, ImageDraw\n",
        "\n",
        "json_dir = \"/content/drive/MyDrive/hurricane-harm-herald/data/xBD_data/geotiffs/hold/labels/\"\n",
        "xbd_tif_directory = \"/content/drive/MyDrive/hurricane-harm-herald/data/xBD_data/geotiffs/hold/images\"\n",
        "specific_label_file = florence_json[0]\n",
        "json_label = json_dir + \"/\" + specific_label_file\n",
        "\n",
        "plot_image_label(json_label, xbd_tif_directory, damage_dict, classes_dict)"
      ],
      "metadata": {
        "colab": {
          "base_uri": "https://localhost:8080/",
          "height": 571
        },
        "id": "pUnlMbtw5oCT",
        "outputId": "781af5bd-5267-4b39-89da-29968d0ab88a"
      },
      "execution_count": 374,
      "outputs": [
        {
          "output_type": "display_data",
          "data": {
            "text/plain": [
              "<Figure size 432x288 with 1 Axes>"
            ],
            "image/png": "[encoded data removed]"
          },
          "metadata": {
            "needs_background": "light"
          }
        },
        {
          "output_type": "stream",
          "name": "stdout",
          "text": [
            "                                            geometry  damage class\n",
            "0  POLYGON ((247.312 0.010, 340.399 63.534, 317.2...             2\n",
            "1  POLYGON ((126.162 65.349, 134.332 49.917, 146....             1\n"
          ]
        },
        {
          "output_type": "display_data",
          "data": {
            "text/plain": [
              "<Figure size 432x288 with 1 Axes>"
            ],
            "image/png": "[encoded data removed]"
          },
          "metadata": {
            "needs_background": "light"
          }
        }
      ]
    },
    {
      "cell_type": "markdown",
      "source": [
        "### MAKE THEM ALIGN LOL"
      ],
      "metadata": {
        "id": "fHVoshDtT1TH"
      }
    },
    {
      "cell_type": "code",
      "source": [],
      "metadata": {
        "id": "c7sXXsTB5n3-"
      },
      "execution_count": null,
      "outputs": []
    },
    {
      "cell_type": "markdown",
      "source": [
        "# Make the EF dataset"
      ],
      "metadata": {
        "id": "ON7a8SvPPNkd"
      }
    },
    {
      "cell_type": "code",
      "source": [
        "def extract_metadata_points(json_link, classes_dict):\n",
        "  json_file = open(json_link)\n",
        "  json_data = json.load(json_file)\n",
        "  meta_data = json_data['metadata']\n",
        "  disaster_type = meta_data['disaster']\n",
        "  capture_date = meta_data['capture_date']\n",
        "\n",
        "  coordinates = json_data['features']['xy']\n",
        "  damage_location = []\n",
        "\n",
        "  def extract_location(building):\n",
        "    building_polygon = building['wkt']\n",
        "    building_coordinates = wkt.loads(building_polygon).centroid.wkt\n",
        "    return building_coordinates\n",
        "\n",
        "  for building in coordinates:\n",
        "    building_loc = extract_location(building)\n",
        "    damage_class = building['properties']['subtype']\n",
        "    damage_num = classes_dict[damage_class]\n",
        "    \n",
        "    damage_location.append([building_loc, damage_num, disaster_type, capture_date])\n",
        "  df = GeoDataFrame(damage_location, columns = ['geometry', 'damage class', 'disaster name', 'capture date'])\n",
        "  return df"
      ],
      "metadata": {
        "id": "wh--v3taPdPE"
      },
      "execution_count": 343,
      "outputs": []
    },
    {
      "cell_type": "code",
      "source": [
        "json_link = \"/content/drive/MyDrive/hurricane-harm-herald/data/xBD_data/geotiffs/hold/labels/\" + florence_json[0]\n",
        "\n",
        "extract_metadata_points(json_link, classes_dict)"
      ],
      "metadata": {
        "colab": {
          "base_uri": "https://localhost:8080/",
          "height": 112
        },
        "id": "Ph4EGmhFPxsd",
        "outputId": "24f9ea42-d926-4bc8-9383-a471a4e6dcb9"
      },
      "execution_count": 344,
      "outputs": [
        {
          "output_type": "execute_result",
          "data": {
            "text/plain": [
              "                                      geometry  damage class  \\\n",
              "0    POINT (270.472192671193 39.1967477286612)             2   \n",
              "1  POINT (237.3159744723163 117.9576222367676)             1   \n",
              "\n",
              "        disaster name              capture date  \n",
              "0  hurricane-florence  2018-09-20T16:04:41.000Z  \n",
              "1  hurricane-florence  2018-09-20T16:04:41.000Z  "
            ],
            "text/html": [
              "\n",
              "  <div id=\"df-eba3e320-4c2c-4f7f-84ad-88017f496d04\">\n",
              "    <div class=\"colab-df-container\">\n",
              "      <div>\n",
              "<style scoped>\n",
              "    .dataframe tbody tr th:only-of-type {\n",
              "        vertical-align: middle;\n",
              "    }\n",
              "\n",
              "    .dataframe tbody tr th {\n",
              "        vertical-align: top;\n",
              "    }\n",
              "\n",
              "    .dataframe thead th {\n",
              "        text-align: right;\n",
              "    }\n",
              "</style>\n",
              "<table border=\"1\" class=\"dataframe\">\n",
              "  <thead>\n",
              "    <tr style=\"text-align: right;\">\n",
              "      <th></th>\n",
              "      <th>geometry</th>\n",
              "      <th>damage class</th>\n",
              "      <th>disaster name</th>\n",
              "      <th>capture date</th>\n",
              "    </tr>\n",
              "  </thead>\n",
              "  <tbody>\n",
              "    <tr>\n",
              "      <th>0</th>\n",
              "      <td>POINT (270.472192671193 39.1967477286612)</td>\n",
              "      <td>2</td>\n",
              "      <td>hurricane-florence</td>\n",
              "      <td>2018-09-20T16:04:41.000Z</td>\n",
              "    </tr>\n",
              "    <tr>\n",
              "      <th>1</th>\n",
              "      <td>POINT (237.3159744723163 117.9576222367676)</td>\n",
              "      <td>1</td>\n",
              "      <td>hurricane-florence</td>\n",
              "      <td>2018-09-20T16:04:41.000Z</td>\n",
              "    </tr>\n",
              "  </tbody>\n",
              "</table>\n",
              "</div>\n",
              "      <button class=\"colab-df-convert\" onclick=\"convertToInteractive('df-eba3e320-4c2c-4f7f-84ad-88017f496d04')\"\n",
              "              title=\"Convert this dataframe to an interactive table.\"\n",
              "              style=\"display:none;\">\n",
              "        \n",
              "  <svg xmlns=\"http://www.w3.org/2000/svg\" height=\"24px\"viewBox=\"0 0 24 24\"\n",
              "       width=\"24px\">\n",
              "    <path d=\"M0 0h24v24H0V0z\" fill=\"none\"/>\n",
              "    <path d=\"M18.56 5.44l.94 2.06.94-2.06 2.06-.94-2.06-.94-.94-2.06-.94 2.06-2.06.94zm-11 1L8.5 8.5l.94-2.06 2.06-.94-2.06-.94L8.5 2.5l-.94 2.06-2.06.94zm10 10l.94 2.06.94-2.06 2.06-.94-2.06-.94-.94-2.06-.94 2.06-2.06.94z\"/><path d=\"M17.41 7.96l-1.37-1.37c-.4-.4-.92-.59-1.43-.59-.52 0-1.04.2-1.43.59L10.3 9.45l-7.72 7.72c-.78.78-.78 2.05 0 2.83L4 21.41c.39.39.9.59 1.41.59.51 0 1.02-.2 1.41-.59l7.78-7.78 2.81-2.81c.8-.78.8-2.07 0-2.86zM5.41 20L4 18.59l7.72-7.72 1.47 1.35L5.41 20z\"/>\n",
              "  </svg>\n",
              "      </button>\n",
              "      \n",
              "  <style>\n",
              "    .colab-df-container {\n",
              "      display:flex;\n",
              "      flex-wrap:wrap;\n",
              "      gap: 12px;\n",
              "    }\n",
              "\n",
              "    .colab-df-convert {\n",
              "      background-color: #E8F0FE;\n",
              "      border: none;\n",
              "      border-radius: 50%;\n",
              "      cursor: pointer;\n",
              "      display: none;\n",
              "      fill: #1967D2;\n",
              "      height: 32px;\n",
              "      padding: 0 0 0 0;\n",
              "      width: 32px;\n",
              "    }\n",
              "\n",
              "    .colab-df-convert:hover {\n",
              "      background-color: #E2EBFA;\n",
              "      box-shadow: 0px 1px 2px rgba(60, 64, 67, 0.3), 0px 1px 3px 1px rgba(60, 64, 67, 0.15);\n",
              "      fill: #174EA6;\n",
              "    }\n",
              "\n",
              "    [theme=dark] .colab-df-convert {\n",
              "      background-color: #3B4455;\n",
              "      fill: #D2E3FC;\n",
              "    }\n",
              "\n",
              "    [theme=dark] .colab-df-convert:hover {\n",
              "      background-color: #434B5C;\n",
              "      box-shadow: 0px 1px 3px 1px rgba(0, 0, 0, 0.15);\n",
              "      filter: drop-shadow(0px 1px 2px rgba(0, 0, 0, 0.3));\n",
              "      fill: #FFFFFF;\n",
              "    }\n",
              "  </style>\n",
              "\n",
              "      <script>\n",
              "        const buttonEl =\n",
              "          document.querySelector('#df-eba3e320-4c2c-4f7f-84ad-88017f496d04 button.colab-df-convert');\n",
              "        buttonEl.style.display =\n",
              "          google.colab.kernel.accessAllowed ? 'block' : 'none';\n",
              "\n",
              "        async function convertToInteractive(key) {\n",
              "          const element = document.querySelector('#df-eba3e320-4c2c-4f7f-84ad-88017f496d04');\n",
              "          const dataTable =\n",
              "            await google.colab.kernel.invokeFunction('convertToInteractive',\n",
              "                                                     [key], {});\n",
              "          if (!dataTable) return;\n",
              "\n",
              "          const docLinkHtml = 'Like what you see? Visit the ' +\n",
              "            '<a target=\"_blank\" href=https://colab.research.google.com/notebooks/data_table.ipynb>data table notebook</a>'\n",
              "            + ' to learn more about interactive tables.';\n",
              "          element.innerHTML = '';\n",
              "          dataTable['output_type'] = 'display_data';\n",
              "          await google.colab.output.renderOutput(dataTable, element);\n",
              "          const docLink = document.createElement('div');\n",
              "          docLink.innerHTML = docLinkHtml;\n",
              "          element.appendChild(docLink);\n",
              "        }\n",
              "      </script>\n",
              "    </div>\n",
              "  </div>\n",
              "  "
            ]
          },
          "metadata": {},
          "execution_count": 344
        }
      ]
    },
    {
      "cell_type": "code",
      "source": [
        "def extract_points_damage_allfiles(full_post_hurr_json_files):\n",
        "  dataframes_list = []\n",
        "  for file in full_post_hurr_json_files:\n",
        "    loc_and_damage_df = extract_metadata_points(file, classes_dict)\n",
        "    dataframes_list.append(loc_and_damage_df)  \n",
        "  rdf = gpd.GeoDataFrame(pd.concat(dataframes_list, ignore_index=True))\n",
        "  return rdf"
      ],
      "metadata": {
        "id": "XA2cNBEPOLXh"
      },
      "execution_count": 351,
      "outputs": []
    },
    {
      "cell_type": "code",
      "source": [
        "full_post_hurr_json_files = [xbd_json_directory + \"/\" + i for i in posthurr_json_files]\n",
        "\n",
        "df_points_post_hurr = extract_points_damage_allfiles(full_post_hurr_json_files)"
      ],
      "metadata": {
        "id": "kS6gqTRjPE0B"
      },
      "execution_count": 388,
      "outputs": []
    },
    {
      "cell_type": "code",
      "source": [
        "df_points_post_hurr['capture date'] = pd.to_datetime(meta_data_points_post_hurr['capture date'])"
      ],
      "metadata": {
        "id": "ms2tKvm4X4Xv"
      },
      "execution_count": 389,
      "outputs": []
    },
    {
      "cell_type": "code",
      "source": [
        "df_points_post_hurr"
      ],
      "metadata": {
        "colab": {
          "base_uri": "https://localhost:8080/",
          "height": 424
        },
        "id": "eq1dSyThR40e",
        "outputId": "2da2253f-6383-4f74-9859-4ba3e8f08b4f"
      },
      "execution_count": 390,
      "outputs": [
        {
          "output_type": "execute_result",
          "data": {
            "text/plain": [
              "                                           geometry damage class  \\\n",
              "0         POINT (270.472192671193 39.1967477286612)            2   \n",
              "1       POINT (237.3159744723163 117.9576222367676)            1   \n",
              "2      POINT (918.4385807812326 1010.6264560931927)            0   \n",
              "3      POINT (816.3306268891515 1018.9566968424516)            0   \n",
              "4       POINT (819.1450854852911 878.9166217353865)            1   \n",
              "...                                             ...          ...   \n",
              "23049   POINT (163.2786512160337 991.7472636502039)            0   \n",
              "23050  POINT (211.91524404122964 982.1444131357814)            0   \n",
              "23051  POINT (228.34177690185325 929.3449450927592)            0   \n",
              "23052  POINT (85.28614913360693 1016.2542187816331)            0   \n",
              "23053   POINT (81.96139677561239 299.4307174612822)            0   \n",
              "\n",
              "            disaster name              capture date  \n",
              "0      hurricane-florence 2018-09-20 16:04:41+00:00  \n",
              "1      hurricane-florence 2018-09-20 16:04:41+00:00  \n",
              "2       hurricane-michael 2018-10-13 16:48:15+00:00  \n",
              "3       hurricane-michael 2018-10-13 16:48:15+00:00  \n",
              "4       hurricane-michael 2018-10-13 16:48:15+00:00  \n",
              "...                   ...                       ...  \n",
              "23049  hurricane-florence 2018-09-20 16:04:41+00:00  \n",
              "23050  hurricane-florence 2018-09-20 16:04:41+00:00  \n",
              "23051  hurricane-florence 2018-09-20 16:04:41+00:00  \n",
              "23052  hurricane-florence 2018-09-20 16:04:41+00:00  \n",
              "23053  hurricane-florence 2018-09-20 16:04:41+00:00  \n",
              "\n",
              "[23054 rows x 4 columns]"
            ],
            "text/html": [
              "\n",
              "  <div id=\"df-e6c4478f-bf7e-4622-b38c-414af87e6dfc\">\n",
              "    <div class=\"colab-df-container\">\n",
              "      <div>\n",
              "<style scoped>\n",
              "    .dataframe tbody tr th:only-of-type {\n",
              "        vertical-align: middle;\n",
              "    }\n",
              "\n",
              "    .dataframe tbody tr th {\n",
              "        vertical-align: top;\n",
              "    }\n",
              "\n",
              "    .dataframe thead th {\n",
              "        text-align: right;\n",
              "    }\n",
              "</style>\n",
              "<table border=\"1\" class=\"dataframe\">\n",
              "  <thead>\n",
              "    <tr style=\"text-align: right;\">\n",
              "      <th></th>\n",
              "      <th>geometry</th>\n",
              "      <th>damage class</th>\n",
              "      <th>disaster name</th>\n",
              "      <th>capture date</th>\n",
              "    </tr>\n",
              "  </thead>\n",
              "  <tbody>\n",
              "    <tr>\n",
              "      <th>0</th>\n",
              "      <td>POINT (270.472192671193 39.1967477286612)</td>\n",
              "      <td>2</td>\n",
              "      <td>hurricane-florence</td>\n",
              "      <td>2018-09-20 16:04:41+00:00</td>\n",
              "    </tr>\n",
              "    <tr>\n",
              "      <th>1</th>\n",
              "      <td>POINT (237.3159744723163 117.9576222367676)</td>\n",
              "      <td>1</td>\n",
              "      <td>hurricane-florence</td>\n",
              "      <td>2018-09-20 16:04:41+00:00</td>\n",
              "    </tr>\n",
              "    <tr>\n",
              "      <th>2</th>\n",
              "      <td>POINT (918.4385807812326 1010.6264560931927)</td>\n",
              "      <td>0</td>\n",
              "      <td>hurricane-michael</td>\n",
              "      <td>2018-10-13 16:48:15+00:00</td>\n",
              "    </tr>\n",
              "    <tr>\n",
              "      <th>3</th>\n",
              "      <td>POINT (816.3306268891515 1018.9566968424516)</td>\n",
              "      <td>0</td>\n",
              "      <td>hurricane-michael</td>\n",
              "      <td>2018-10-13 16:48:15+00:00</td>\n",
              "    </tr>\n",
              "    <tr>\n",
              "      <th>4</th>\n",
              "      <td>POINT (819.1450854852911 878.9166217353865)</td>\n",
              "      <td>1</td>\n",
              "      <td>hurricane-michael</td>\n",
              "      <td>2018-10-13 16:48:15+00:00</td>\n",
              "    </tr>\n",
              "    <tr>\n",
              "      <th>...</th>\n",
              "      <td>...</td>\n",
              "      <td>...</td>\n",
              "      <td>...</td>\n",
              "      <td>...</td>\n",
              "    </tr>\n",
              "    <tr>\n",
              "      <th>23049</th>\n",
              "      <td>POINT (163.2786512160337 991.7472636502039)</td>\n",
              "      <td>0</td>\n",
              "      <td>hurricane-florence</td>\n",
              "      <td>2018-09-20 16:04:41+00:00</td>\n",
              "    </tr>\n",
              "    <tr>\n",
              "      <th>23050</th>\n",
              "      <td>POINT (211.91524404122964 982.1444131357814)</td>\n",
              "      <td>0</td>\n",
              "      <td>hurricane-florence</td>\n",
              "      <td>2018-09-20 16:04:41+00:00</td>\n",
              "    </tr>\n",
              "    <tr>\n",
              "      <th>23051</th>\n",
              "      <td>POINT (228.34177690185325 929.3449450927592)</td>\n",
              "      <td>0</td>\n",
              "      <td>hurricane-florence</td>\n",
              "      <td>2018-09-20 16:04:41+00:00</td>\n",
              "    </tr>\n",
              "    <tr>\n",
              "      <th>23052</th>\n",
              "      <td>POINT (85.28614913360693 1016.2542187816331)</td>\n",
              "      <td>0</td>\n",
              "      <td>hurricane-florence</td>\n",
              "      <td>2018-09-20 16:04:41+00:00</td>\n",
              "    </tr>\n",
              "    <tr>\n",
              "      <th>23053</th>\n",
              "      <td>POINT (81.96139677561239 299.4307174612822)</td>\n",
              "      <td>0</td>\n",
              "      <td>hurricane-florence</td>\n",
              "      <td>2018-09-20 16:04:41+00:00</td>\n",
              "    </tr>\n",
              "  </tbody>\n",
              "</table>\n",
              "<p>23054 rows × 4 columns</p>\n",
              "</div>\n",
              "      <button class=\"colab-df-convert\" onclick=\"convertToInteractive('df-e6c4478f-bf7e-4622-b38c-414af87e6dfc')\"\n",
              "              title=\"Convert this dataframe to an interactive table.\"\n",
              "              style=\"display:none;\">\n",
              "        \n",
              "  <svg xmlns=\"http://www.w3.org/2000/svg\" height=\"24px\"viewBox=\"0 0 24 24\"\n",
              "       width=\"24px\">\n",
              "    <path d=\"M0 0h24v24H0V0z\" fill=\"none\"/>\n",
              "    <path d=\"M18.56 5.44l.94 2.06.94-2.06 2.06-.94-2.06-.94-.94-2.06-.94 2.06-2.06.94zm-11 1L8.5 8.5l.94-2.06 2.06-.94-2.06-.94L8.5 2.5l-.94 2.06-2.06.94zm10 10l.94 2.06.94-2.06 2.06-.94-2.06-.94-.94-2.06-.94 2.06-2.06.94z\"/><path d=\"M17.41 7.96l-1.37-1.37c-.4-.4-.92-.59-1.43-.59-.52 0-1.04.2-1.43.59L10.3 9.45l-7.72 7.72c-.78.78-.78 2.05 0 2.83L4 21.41c.39.39.9.59 1.41.59.51 0 1.02-.2 1.41-.59l7.78-7.78 2.81-2.81c.8-.78.8-2.07 0-2.86zM5.41 20L4 18.59l7.72-7.72 1.47 1.35L5.41 20z\"/>\n",
              "  </svg>\n",
              "      </button>\n",
              "      \n",
              "  <style>\n",
              "    .colab-df-container {\n",
              "      display:flex;\n",
              "      flex-wrap:wrap;\n",
              "      gap: 12px;\n",
              "    }\n",
              "\n",
              "    .colab-df-convert {\n",
              "      background-color: #E8F0FE;\n",
              "      border: none;\n",
              "      border-radius: 50%;\n",
              "      cursor: pointer;\n",
              "      display: none;\n",
              "      fill: #1967D2;\n",
              "      height: 32px;\n",
              "      padding: 0 0 0 0;\n",
              "      width: 32px;\n",
              "    }\n",
              "\n",
              "    .colab-df-convert:hover {\n",
              "      background-color: #E2EBFA;\n",
              "      box-shadow: 0px 1px 2px rgba(60, 64, 67, 0.3), 0px 1px 3px 1px rgba(60, 64, 67, 0.15);\n",
              "      fill: #174EA6;\n",
              "    }\n",
              "\n",
              "    [theme=dark] .colab-df-convert {\n",
              "      background-color: #3B4455;\n",
              "      fill: #D2E3FC;\n",
              "    }\n",
              "\n",
              "    [theme=dark] .colab-df-convert:hover {\n",
              "      background-color: #434B5C;\n",
              "      box-shadow: 0px 1px 3px 1px rgba(0, 0, 0, 0.15);\n",
              "      filter: drop-shadow(0px 1px 2px rgba(0, 0, 0, 0.3));\n",
              "      fill: #FFFFFF;\n",
              "    }\n",
              "  </style>\n",
              "\n",
              "      <script>\n",
              "        const buttonEl =\n",
              "          document.querySelector('#df-e6c4478f-bf7e-4622-b38c-414af87e6dfc button.colab-df-convert');\n",
              "        buttonEl.style.display =\n",
              "          google.colab.kernel.accessAllowed ? 'block' : 'none';\n",
              "\n",
              "        async function convertToInteractive(key) {\n",
              "          const element = document.querySelector('#df-e6c4478f-bf7e-4622-b38c-414af87e6dfc');\n",
              "          const dataTable =\n",
              "            await google.colab.kernel.invokeFunction('convertToInteractive',\n",
              "                                                     [key], {});\n",
              "          if (!dataTable) return;\n",
              "\n",
              "          const docLinkHtml = 'Like what you see? Visit the ' +\n",
              "            '<a target=\"_blank\" href=https://colab.research.google.com/notebooks/data_table.ipynb>data table notebook</a>'\n",
              "            + ' to learn more about interactive tables.';\n",
              "          element.innerHTML = '';\n",
              "          dataTable['output_type'] = 'display_data';\n",
              "          await google.colab.output.renderOutput(dataTable, element);\n",
              "          const docLink = document.createElement('div');\n",
              "          docLink.innerHTML = docLinkHtml;\n",
              "          element.appendChild(docLink);\n",
              "        }\n",
              "      </script>\n",
              "    </div>\n",
              "  </div>\n",
              "  "
            ]
          },
          "metadata": {},
          "execution_count": 390
        }
      ]
    },
    {
      "cell_type": "markdown",
      "source": [
        "## Save new file"
      ],
      "metadata": {
        "id": "wXS6wLACUTId"
      }
    },
    {
      "cell_type": "code",
      "source": [
        "%cd /content/drive/MyDrive/hurricane-harm-herald/data/xBD_data/geotiffs/hold/"
      ],
      "metadata": {
        "colab": {
          "base_uri": "https://localhost:8080/"
        },
        "id": "mV50TiPMUStW",
        "outputId": "7918ccda-f63b-4402-8a5f-db1eb36f20cb"
      },
      "execution_count": 396,
      "outputs": [
        {
          "output_type": "stream",
          "name": "stdout",
          "text": [
            "/content/drive/MyDrive/hurricane-harm-herald/data/xBD_data/geotiffs/hold\n"
          ]
        }
      ]
    },
    {
      "cell_type": "code",
      "source": [
        "df_points_post_hurr.to_pickle(\"./df_points_posthurr.pkl\")"
      ],
      "metadata": {
        "id": "SgiawPv5U1yK"
      },
      "execution_count": 397,
      "outputs": []
    },
    {
      "cell_type": "code",
      "source": [
        "pd.read_pickle(\"./df_points_posthurr.pkl\")"
      ],
      "metadata": {
        "colab": {
          "base_uri": "https://localhost:8080/",
          "height": 424
        },
        "id": "h_e8RBR1WDe0",
        "outputId": "b1ca0bfd-18b8-4bf8-bd9d-ea6d607633b8"
      },
      "execution_count": 398,
      "outputs": [
        {
          "output_type": "execute_result",
          "data": {
            "text/plain": [
              "                                           geometry damage class  \\\n",
              "0         POINT (270.472192671193 39.1967477286612)            2   \n",
              "1       POINT (237.3159744723163 117.9576222367676)            1   \n",
              "2      POINT (918.4385807812326 1010.6264560931927)            0   \n",
              "3      POINT (816.3306268891515 1018.9566968424516)            0   \n",
              "4       POINT (819.1450854852911 878.9166217353865)            1   \n",
              "...                                             ...          ...   \n",
              "23049   POINT (163.2786512160337 991.7472636502039)            0   \n",
              "23050  POINT (211.91524404122964 982.1444131357814)            0   \n",
              "23051  POINT (228.34177690185325 929.3449450927592)            0   \n",
              "23052  POINT (85.28614913360693 1016.2542187816331)            0   \n",
              "23053   POINT (81.96139677561239 299.4307174612822)            0   \n",
              "\n",
              "            disaster name              capture date  \n",
              "0      hurricane-florence 2018-09-20 16:04:41+00:00  \n",
              "1      hurricane-florence 2018-09-20 16:04:41+00:00  \n",
              "2       hurricane-michael 2018-10-13 16:48:15+00:00  \n",
              "3       hurricane-michael 2018-10-13 16:48:15+00:00  \n",
              "4       hurricane-michael 2018-10-13 16:48:15+00:00  \n",
              "...                   ...                       ...  \n",
              "23049  hurricane-florence 2018-09-20 16:04:41+00:00  \n",
              "23050  hurricane-florence 2018-09-20 16:04:41+00:00  \n",
              "23051  hurricane-florence 2018-09-20 16:04:41+00:00  \n",
              "23052  hurricane-florence 2018-09-20 16:04:41+00:00  \n",
              "23053  hurricane-florence 2018-09-20 16:04:41+00:00  \n",
              "\n",
              "[23054 rows x 4 columns]"
            ],
            "text/html": [
              "\n",
              "  <div id=\"df-75c07514-7c55-4193-ad6a-fddea46bb06a\">\n",
              "    <div class=\"colab-df-container\">\n",
              "      <div>\n",
              "<style scoped>\n",
              "    .dataframe tbody tr th:only-of-type {\n",
              "        vertical-align: middle;\n",
              "    }\n",
              "\n",
              "    .dataframe tbody tr th {\n",
              "        vertical-align: top;\n",
              "    }\n",
              "\n",
              "    .dataframe thead th {\n",
              "        text-align: right;\n",
              "    }\n",
              "</style>\n",
              "<table border=\"1\" class=\"dataframe\">\n",
              "  <thead>\n",
              "    <tr style=\"text-align: right;\">\n",
              "      <th></th>\n",
              "      <th>geometry</th>\n",
              "      <th>damage class</th>\n",
              "      <th>disaster name</th>\n",
              "      <th>capture date</th>\n",
              "    </tr>\n",
              "  </thead>\n",
              "  <tbody>\n",
              "    <tr>\n",
              "      <th>0</th>\n",
              "      <td>POINT (270.472192671193 39.1967477286612)</td>\n",
              "      <td>2</td>\n",
              "      <td>hurricane-florence</td>\n",
              "      <td>2018-09-20 16:04:41+00:00</td>\n",
              "    </tr>\n",
              "    <tr>\n",
              "      <th>1</th>\n",
              "      <td>POINT (237.3159744723163 117.9576222367676)</td>\n",
              "      <td>1</td>\n",
              "      <td>hurricane-florence</td>\n",
              "      <td>2018-09-20 16:04:41+00:00</td>\n",
              "    </tr>\n",
              "    <tr>\n",
              "      <th>2</th>\n",
              "      <td>POINT (918.4385807812326 1010.6264560931927)</td>\n",
              "      <td>0</td>\n",
              "      <td>hurricane-michael</td>\n",
              "      <td>2018-10-13 16:48:15+00:00</td>\n",
              "    </tr>\n",
              "    <tr>\n",
              "      <th>3</th>\n",
              "      <td>POINT (816.3306268891515 1018.9566968424516)</td>\n",
              "      <td>0</td>\n",
              "      <td>hurricane-michael</td>\n",
              "      <td>2018-10-13 16:48:15+00:00</td>\n",
              "    </tr>\n",
              "    <tr>\n",
              "      <th>4</th>\n",
              "      <td>POINT (819.1450854852911 878.9166217353865)</td>\n",
              "      <td>1</td>\n",
              "      <td>hurricane-michael</td>\n",
              "      <td>2018-10-13 16:48:15+00:00</td>\n",
              "    </tr>\n",
              "    <tr>\n",
              "      <th>...</th>\n",
              "      <td>...</td>\n",
              "      <td>...</td>\n",
              "      <td>...</td>\n",
              "      <td>...</td>\n",
              "    </tr>\n",
              "    <tr>\n",
              "      <th>23049</th>\n",
              "      <td>POINT (163.2786512160337 991.7472636502039)</td>\n",
              "      <td>0</td>\n",
              "      <td>hurricane-florence</td>\n",
              "      <td>2018-09-20 16:04:41+00:00</td>\n",
              "    </tr>\n",
              "    <tr>\n",
              "      <th>23050</th>\n",
              "      <td>POINT (211.91524404122964 982.1444131357814)</td>\n",
              "      <td>0</td>\n",
              "      <td>hurricane-florence</td>\n",
              "      <td>2018-09-20 16:04:41+00:00</td>\n",
              "    </tr>\n",
              "    <tr>\n",
              "      <th>23051</th>\n",
              "      <td>POINT (228.34177690185325 929.3449450927592)</td>\n",
              "      <td>0</td>\n",
              "      <td>hurricane-florence</td>\n",
              "      <td>2018-09-20 16:04:41+00:00</td>\n",
              "    </tr>\n",
              "    <tr>\n",
              "      <th>23052</th>\n",
              "      <td>POINT (85.28614913360693 1016.2542187816331)</td>\n",
              "      <td>0</td>\n",
              "      <td>hurricane-florence</td>\n",
              "      <td>2018-09-20 16:04:41+00:00</td>\n",
              "    </tr>\n",
              "    <tr>\n",
              "      <th>23053</th>\n",
              "      <td>POINT (81.96139677561239 299.4307174612822)</td>\n",
              "      <td>0</td>\n",
              "      <td>hurricane-florence</td>\n",
              "      <td>2018-09-20 16:04:41+00:00</td>\n",
              "    </tr>\n",
              "  </tbody>\n",
              "</table>\n",
              "<p>23054 rows × 4 columns</p>\n",
              "</div>\n",
              "      <button class=\"colab-df-convert\" onclick=\"convertToInteractive('df-75c07514-7c55-4193-ad6a-fddea46bb06a')\"\n",
              "              title=\"Convert this dataframe to an interactive table.\"\n",
              "              style=\"display:none;\">\n",
              "        \n",
              "  <svg xmlns=\"http://www.w3.org/2000/svg\" height=\"24px\"viewBox=\"0 0 24 24\"\n",
              "       width=\"24px\">\n",
              "    <path d=\"M0 0h24v24H0V0z\" fill=\"none\"/>\n",
              "    <path d=\"M18.56 5.44l.94 2.06.94-2.06 2.06-.94-2.06-.94-.94-2.06-.94 2.06-2.06.94zm-11 1L8.5 8.5l.94-2.06 2.06-.94-2.06-.94L8.5 2.5l-.94 2.06-2.06.94zm10 10l.94 2.06.94-2.06 2.06-.94-2.06-.94-.94-2.06-.94 2.06-2.06.94z\"/><path d=\"M17.41 7.96l-1.37-1.37c-.4-.4-.92-.59-1.43-.59-.52 0-1.04.2-1.43.59L10.3 9.45l-7.72 7.72c-.78.78-.78 2.05 0 2.83L4 21.41c.39.39.9.59 1.41.59.51 0 1.02-.2 1.41-.59l7.78-7.78 2.81-2.81c.8-.78.8-2.07 0-2.86zM5.41 20L4 18.59l7.72-7.72 1.47 1.35L5.41 20z\"/>\n",
              "  </svg>\n",
              "      </button>\n",
              "      \n",
              "  <style>\n",
              "    .colab-df-container {\n",
              "      display:flex;\n",
              "      flex-wrap:wrap;\n",
              "      gap: 12px;\n",
              "    }\n",
              "\n",
              "    .colab-df-convert {\n",
              "      background-color: #E8F0FE;\n",
              "      border: none;\n",
              "      border-radius: 50%;\n",
              "      cursor: pointer;\n",
              "      display: none;\n",
              "      fill: #1967D2;\n",
              "      height: 32px;\n",
              "      padding: 0 0 0 0;\n",
              "      width: 32px;\n",
              "    }\n",
              "\n",
              "    .colab-df-convert:hover {\n",
              "      background-color: #E2EBFA;\n",
              "      box-shadow: 0px 1px 2px rgba(60, 64, 67, 0.3), 0px 1px 3px 1px rgba(60, 64, 67, 0.15);\n",
              "      fill: #174EA6;\n",
              "    }\n",
              "\n",
              "    [theme=dark] .colab-df-convert {\n",
              "      background-color: #3B4455;\n",
              "      fill: #D2E3FC;\n",
              "    }\n",
              "\n",
              "    [theme=dark] .colab-df-convert:hover {\n",
              "      background-color: #434B5C;\n",
              "      box-shadow: 0px 1px 3px 1px rgba(0, 0, 0, 0.15);\n",
              "      filter: drop-shadow(0px 1px 2px rgba(0, 0, 0, 0.3));\n",
              "      fill: #FFFFFF;\n",
              "    }\n",
              "  </style>\n",
              "\n",
              "      <script>\n",
              "        const buttonEl =\n",
              "          document.querySelector('#df-75c07514-7c55-4193-ad6a-fddea46bb06a button.colab-df-convert');\n",
              "        buttonEl.style.display =\n",
              "          google.colab.kernel.accessAllowed ? 'block' : 'none';\n",
              "\n",
              "        async function convertToInteractive(key) {\n",
              "          const element = document.querySelector('#df-75c07514-7c55-4193-ad6a-fddea46bb06a');\n",
              "          const dataTable =\n",
              "            await google.colab.kernel.invokeFunction('convertToInteractive',\n",
              "                                                     [key], {});\n",
              "          if (!dataTable) return;\n",
              "\n",
              "          const docLinkHtml = 'Like what you see? Visit the ' +\n",
              "            '<a target=\"_blank\" href=https://colab.research.google.com/notebooks/data_table.ipynb>data table notebook</a>'\n",
              "            + ' to learn more about interactive tables.';\n",
              "          element.innerHTML = '';\n",
              "          dataTable['output_type'] = 'display_data';\n",
              "          await google.colab.output.renderOutput(dataTable, element);\n",
              "          const docLink = document.createElement('div');\n",
              "          docLink.innerHTML = docLinkHtml;\n",
              "          element.appendChild(docLink);\n",
              "        }\n",
              "      </script>\n",
              "    </div>\n",
              "  </div>\n",
              "  "
            ]
          },
          "metadata": {},
          "execution_count": 398
        }
      ]
    }
  ]
}