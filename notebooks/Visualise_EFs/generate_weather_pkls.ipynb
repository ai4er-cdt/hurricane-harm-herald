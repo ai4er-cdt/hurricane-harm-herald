{
 "cells": [
  {
   "cell_type": "code",
   "execution_count": 1,
   "metadata": {},
   "outputs": [],
   "source": [
    "%load_ext autoreload\n",
    "%autoreload 2"
   ]
  },
  {
   "attachments": {},
   "cell_type": "markdown",
   "metadata": {},
   "source": [
    "# Notebook to generate all weather pkl files"
   ]
  },
  {
   "cell_type": "code",
   "execution_count": 2,
   "metadata": {},
   "outputs": [],
   "source": [
    "import os\n",
    "import sys\n",
    "module_path = os.path.abspath(os.path.join(\"../..\"))\n",
    "if module_path not in sys.path:\n",
    "    sys.path.append(module_path)\n",
    "\n",
    "import h3\n",
    "import pandas as pd\n",
    "pd.options.mode.chained_assignment = None  # default='warn'\n"
   ]
  },
  {
   "cell_type": "code",
   "execution_count": 3,
   "metadata": {},
   "outputs": [
    {
     "name": "stderr",
     "output_type": "stream",
     "text": [
      "/Users/orlandotimmerman/opt/miniconda3/envs/h3/lib/python3.10/site-packages/tqdm/auto.py:21: TqdmWarning: IProgress not found. Please update jupyter and ipywidgets. See https://ipywidgets.readthedocs.io/en/stable/user_install.html\n",
      "  from .autonotebook import tqdm as notebook_tqdm\n"
     ]
    }
   ],
   "source": [
    "from h3.dataloading import weather\n",
    "from h3.utils import directories\n",
    "from h3.utils.set_up import check_if_data_file_exists"
   ]
  },
  {
   "attachments": {},
   "cell_type": "markdown",
   "metadata": {},
   "source": [
    "## Generate NOAA Best Track HURDAT2 data"
   ]
  },
  {
   "attachments": {},
   "cell_type": "markdown",
   "metadata": {},
   "source": [
    "#### All NOAA hurricanes"
   ]
  },
  {
   "cell_type": "code",
   "execution_count": null,
   "metadata": {},
   "outputs": [],
   "source": [
    "# path to necessary file for generating NOAA hurricanes data\n",
    "isd_metadata_path = os.path.join(directories.get_h3_data_files_dir(), 'hurdat2-1851-2021-meta.txt')\n",
    "noaa_hurricanes_pkl_name = 'noaa_hurricanes.pkl'\n",
    "\n",
    "# if pkl file containing all NOAA hurricanes doesn't exist:\n",
    "if not check_if_data_file_exists(noaa_hurricanes_pkl_name):\n",
    "\tprint(f\"Generating {noaa_hurricanes_pkl_name} in correct folder location.\")\n",
    "\t# generate it\n",
    "\tnoaa_hurricanes = weather.generate_and_save_noaa_best_track_pkl(isd_metadata_path, xbd_hurricanes_only=False)\n",
    "# if pkl file containing all NOAA hurricanes does exist at correct location, display it\n",
    "else:\n",
    "\tnoaa_hurricanes = pd.read_pickle(os.path.join(directories.get_noaa_data_dir(), noaa_hurricanes_pkl_name))\n",
    "\n",
    "noaa_hurricanes.head()"
   ]
  },
  {
   "attachments": {},
   "cell_type": "markdown",
   "metadata": {},
   "source": [
    "#### Only NOAA hurricanes represented in the xBD dataset"
   ]
  },
  {
   "cell_type": "code",
   "execution_count": null,
   "metadata": {},
   "outputs": [],
   "source": [
    "noaa_xbd_hurricanes_pkl_name = 'noaa_xbd_hurricanes.pkl'\n",
    "\n",
    "#  if pkl file containing all NOAA hurricanes represented in the xBD dataset doesn't exist:\n",
    "if not check_if_data_file_exists(noaa_xbd_hurricanes_pkl_name):\n",
    "\tprint(f\"Generating {noaa_xbd_hurricanes_pkl_name} in correct folder location.\")\n",
    "\t# generate it\n",
    "\tnoaa_xbd_hurricanes = weather.generate_and_save_noaa_best_track_pkl(isd_metadata_path, xbd_hurricanes_only=True)\n",
    "# if pkl file containing all NOAA hurricanes does exist at correct location, display it\n",
    "else:\n",
    "\tnoaa_xbd_hurricanes = pd.read_pickle(os.path.join(directories.get_noaa_data_dir(), noaa_xbd_hurricanes_pkl_name))\n",
    "\n",
    "noaa_xbd_hurricanes.head()"
   ]
  },
  {
   "attachments": {},
   "cell_type": "markdown",
   "metadata": {},
   "source": [
    "## Generate ECMWF data"
   ]
  },
  {
   "cell_type": "code",
   "execution_count": null,
   "metadata": {},
   "outputs": [],
   "source": [
    "era5_xbd_vales_pkl_name = 'era5_xbd_values.pkl'\n",
    "\n",
    "#  if pkl file containing all NOAA hurricanes represented in the xBD dataset doesn't exist:\n",
    "if not check_if_data_file_exists(era5_xbd_vales_pkl_name):\n",
    "    print(f\"Generating {era5_xbd_vales_pkl_name} in correct folder location.\")\n",
    "    # generate it\n",
    "    era5_xbd_values = weather.generate_and_save_era5_pkl()\n",
    "# if pkl file containing all NOAA hurricanes does exist at correct location, display it\n",
    "else:\n",
    "    era5_xbd_values = pd.read_pickle(os.path.join(directories.get_noaa_data_dir(), era5_xbd_vales_pkl_name))\n",
    "\n",
    "\n",
    "# TODO: come back to this to fix concatentation of grib files to nc file\n",
    "era5_xbd_values.head()"
   ]
  },
  {
   "attachments": {},
   "cell_type": "markdown",
   "metadata": {},
   "source": [
    "## Generate global hourly ISD – weather station data"
   ]
  },
  {
   "cell_type": "code",
   "execution_count": 4,
   "metadata": {},
   "outputs": [
    {
     "name": "stdout",
     "output_type": "stream",
     "text": [
      "xbd_points.pkl found at correct location: /Users/orlandotimmerman/Library/CloudStorage/GoogleDrive-rt582@cam.ac.uk/My Drive/ai4er/python/hurricane/hurricane-harm-herald/data/datasets/xBD_data/xbd_points.pkl\n",
      "noaa_xbd_hurricanes.pkl found at correct location: /Users/orlandotimmerman/Library/CloudStorage/GoogleDrive-rt582@cam.ac.uk/My Drive/ai4er/python/hurricane/hurricane-harm-herald/data/datasets/weather/noaa/noaa_xbd_hurricanes.pkl\n"
     ]
    },
    {
     "name": "stderr",
     "output_type": "stream",
     "text": [
      "/Users/orlandotimmerman/Library/CloudStorage/GoogleDrive-rt582@cam.ac.uk/My Drive/ai4er/python/hurricane/hurricane-harm-herald/h3/dataloading/weather.py:472: FutureWarning: Using .astype to convert from timezone-aware dtype to timezone-naive dtype is deprecated and will raise in a future version.  Use obj.tz_localize(None) or obj.tz_convert('UTC').tz_localize(None) instead\n",
      "  df[col_name] = df[col_name].astype(\"datetime64[ns]\")\n",
      "100%|██████████| 11548/11548 [00:53<00:00, 217.61it/s]\n",
      "/Users/orlandotimmerman/Library/CloudStorage/GoogleDrive-rt582@cam.ac.uk/My Drive/ai4er/python/hurricane/hurricane-harm-herald/h3/dataloading/weather.py:472: FutureWarning: Using .astype to convert from timezone-aware dtype to timezone-naive dtype is deprecated and will raise in a future version.  Use obj.tz_localize(None) or obj.tz_convert('UTC').tz_localize(None) instead\n",
      "  df[col_name] = df[col_name].astype(\"datetime64[ns]\")\n",
      "100%|██████████| 37955/37955 [02:54<00:00, 217.45it/s]\n",
      "/Users/orlandotimmerman/Library/CloudStorage/GoogleDrive-rt582@cam.ac.uk/My Drive/ai4er/python/hurricane/hurricane-harm-herald/h3/dataloading/weather.py:472: FutureWarning: Using .astype to convert from timezone-aware dtype to timezone-naive dtype is deprecated and will raise in a future version.  Use obj.tz_localize(None) or obj.tz_convert('UTC').tz_localize(None) instead\n",
      "  df[col_name] = df[col_name].astype(\"datetime64[ns]\")\n",
      "100%|██████████| 23964/23964 [02:05<00:00, 191.55it/s]\n",
      "/Users/orlandotimmerman/Library/CloudStorage/GoogleDrive-rt582@cam.ac.uk/My Drive/ai4er/python/hurricane/hurricane-harm-herald/h3/dataloading/weather.py:472: FutureWarning: Using .astype to convert from timezone-aware dtype to timezone-naive dtype is deprecated and will raise in a future version.  Use obj.tz_localize(None) or obj.tz_convert('UTC').tz_localize(None) instead\n",
      "  df[col_name] = df[col_name].astype(\"datetime64[ns]\")\n",
      "100%|██████████| 35501/35501 [02:08<00:00, 275.97it/s]\n"
     ]
    }
   ],
   "source": [
    "global_isd_df = weather.generate_weather_stations_df()"
   ]
  }
 ],
 "metadata": {
  "kernelspec": {
   "display_name": "gtc_code",
   "language": "python",
   "name": "python3"
  },
  "language_info": {
   "codemirror_mode": {
    "name": "ipython",
    "version": 3
   },
   "file_extension": ".py",
   "mimetype": "text/x-python",
   "name": "python",
   "nbconvert_exporter": "python",
   "pygments_lexer": "ipython3",
   "version": "3.10.9"
  },
  "orig_nbformat": 4
 },
 "nbformat": 4,
 "nbformat_minor": 2
}
