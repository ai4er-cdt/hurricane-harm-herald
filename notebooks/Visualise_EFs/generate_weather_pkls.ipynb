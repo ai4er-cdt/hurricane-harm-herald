{
 "cells": [
  {
   "attachments": {},
   "cell_type": "markdown",
   "metadata": {},
   "source": [
    "# Notebook to generate all weather pkl files"
   ]
  },
  {
   "cell_type": "code",
   "execution_count": 1,
   "metadata": {},
   "outputs": [],
   "source": [
    "import os\n",
    "import sys\n",
    "module_path = os.path.abspath(os.path.join(\"../..\"))\n",
    "if module_path not in sys.path:\n",
    "    sys.path.append(module_path)\n",
    "\n",
    "import h3"
   ]
  },
  {
   "cell_type": "code",
   "execution_count": 2,
   "metadata": {},
   "outputs": [
    {
     "name": "stderr",
     "output_type": "stream",
     "text": [
      "Global seed set to 17\n"
     ]
    }
   ],
   "source": [
    "from h3.dataloading import weather\n",
    "from h3.utils.directories import get_h3_data_files_dir, get_datasets_dir, get_weather_data_dir, get_ecmwf_data_dir\n",
    "from h3.utils.set_up import check_if_data_file_exists"
   ]
  },
  {
   "attachments": {},
   "cell_type": "markdown",
   "metadata": {},
   "source": [
    "### NOAA Best Track HURDAT2 data"
   ]
  },
  {
   "cell_type": "code",
   "execution_count": null,
   "metadata": {},
   "outputs": [],
   "source": [
    "# path to necessary file for generating NOAA hurricanes data\n",
    "isd_metadata_path = os.path.join(get_h3_data_files_dir(), 'hurdat2-1851-2021-meta.txt')\n",
    "\n",
    "# if pkl file containing all NOAA hurricanes doesn't exist:\n",
    "if not check_if_data_file_exists('noaa_hurricanes.pkl'):\n",
    "\t# generate it\n",
    "\tnoaa_hurricanes = weather.generate_noaa_best_track_pkl(isd_metadata_path, xbd_hurricanes_only=False)\n",
    "\n",
    "noaa_hurricanes.head()"
   ]
  },
  {
   "cell_type": "code",
   "execution_count": null,
   "metadata": {},
   "outputs": [],
   "source": [
    "# if pkl file containing all NOAA hurricanes represented in the xBD dataset doesn't exist:\n",
    "if not check_if_data_file_exists('noaa_hurricanes.pkl'):\n",
    "\t# generate it\n",
    "\tnoaa_xbd_hurricanes = weather.generate_noaa_best_track_pkl(isd_metadata_path, xbd_hurricanes_only=True)\n",
    "\n",
    "noaa_xbd_hurricanes.head()"
   ]
  },
  {
   "attachments": {},
   "cell_type": "markdown",
   "metadata": {},
   "source": [
    "## ECMWF data"
   ]
  },
  {
   "cell_type": "code",
   "execution_count": 3,
   "metadata": {},
   "outputs": [
    {
     "ename": "KeyboardInterrupt",
     "evalue": "",
     "output_type": "error",
     "traceback": [
      "\u001b[0;31m---------------------------------------------------------------------------\u001b[0m",
      "\u001b[0;31mKeyboardInterrupt\u001b[0m                         Traceback (most recent call last)",
      "Cell \u001b[0;32mIn[3], line 1\u001b[0m\n\u001b[0;32m----> 1\u001b[0m xbd_points_ecmwf \u001b[39m=\u001b[39m weather\u001b[39m.\u001b[39;49mgenerate_ecmwf_pkl(distance_buffer\u001b[39m=\u001b[39;49m\u001b[39m5\u001b[39;49m)\n",
      "File \u001b[0;32m~/Library/CloudStorage/GoogleDrive-rt582@cam.ac.uk/My Drive/ai4er/python/hurricane/hurricane-harm-herald/h3/dataloading/weather.py:443\u001b[0m, in \u001b[0;36mgenerate_ecmwf_pkl\u001b[0;34m(distance_buffer)\u001b[0m\n\u001b[1;32m    441\u001b[0m \n\u001b[1;32m    442\u001b[0m def generate_ecmwf_pkl(\n\u001b[0;32m--> 443\u001b[0m     distance_buffer: float = 5\n\u001b[1;32m    444\u001b[0m ) -> pd.DataFrame:\n\u001b[1;32m    445\u001b[0m     download_dest_dir = directories.get_ecmwf_data_dir()\n",
      "File \u001b[0;32m~/Library/CloudStorage/GoogleDrive-rt582@cam.ac.uk/My Drive/ai4er/python/hurricane/hurricane-harm-herald/h3/dataloading/weather.py:418\u001b[0m, in \u001b[0;36mdownload_ecmwf_files\u001b[0;34m(download_dest_dir, distance_buffer)\u001b[0m\n\u001b[1;32m    416\u001b[0m \n\u001b[1;32m    417\u001b[0m     if os.path.exists(os.path.join(directories.get_xbd_dir(), 'xbd_data_points.pkl')):\n\u001b[0;32m--> 418\u001b[0m         df_xbd_points = pd.read_pickle(os.path.join(directories.get_xbd_dir(), 'xbd_data_points.pkl'))\n\u001b[1;32m    419\u001b[0m     else:\n\u001b[1;32m    420\u001b[0m         _, df_xbd_points = extract_metadata.main()\n",
      "File \u001b[0;32m~/Library/CloudStorage/GoogleDrive-rt582@cam.ac.uk/My Drive/ai4er/python/hurricane/hurricane-harm-herald/h3/dataprocessing/extract_metadata.py:362\u001b[0m, in \u001b[0;36mmain\u001b[0;34m()\u001b[0m\n\u001b[1;32m    359\u001b[0m \u001b[39m# filepath = os.path.join(xbd_dir, labels_path, \"\")\u001b[39;00m\n\u001b[1;32m    360\u001b[0m filepaths_dict \u001b[39m=\u001b[39m \u001b[39mdict\u001b[39m\u001b[39m.\u001b[39mfromkeys([hold_filepath, tier1_filepath,\n\u001b[1;32m    361\u001b[0m                                 tier3_filepath, test_filepath])\n\u001b[0;32m--> 362\u001b[0m df_pre_post_hurr_xy, df_pre_post_hurr_ll \u001b[39m=\u001b[39m load_and_save_df(filepaths_dict, output_dir)\n\u001b[1;32m    363\u001b[0m \u001b[39mreturn\u001b[39;00m df_pre_post_hurr_xy, df_pre_post_hurr_ll\n",
      "File \u001b[0;32m~/Library/CloudStorage/GoogleDrive-rt582@cam.ac.uk/My Drive/ai4er/python/hurricane/hurricane-harm-herald/h3/dataprocessing/extract_metadata.py:312\u001b[0m, in \u001b[0;36mload_and_save_df\u001b[0;34m(filepaths_dict, output_dir, reload_pickle)\u001b[0m\n\u001b[1;32m    309\u001b[0m \u001b[39m# update filepaths_dictionary\u001b[39;00m\n\u001b[1;32m    310\u001b[0m \u001b[39mfor\u001b[39;00m filepath \u001b[39min\u001b[39;00m filepaths_dict:\n\u001b[1;32m    311\u001b[0m     directory_files \u001b[39m=\u001b[39m [os\u001b[39m.\u001b[39mpath\u001b[39m.\u001b[39mjoin(filepath, file)\n\u001b[0;32m--> 312\u001b[0m                        \u001b[39mfor\u001b[39;00m file \u001b[39min\u001b[39;00m os\u001b[39m.\u001b[39;49mlistdir(filepath)]\n\u001b[1;32m    313\u001b[0m     filepaths_dict[filepath] \u001b[39m=\u001b[39m directory_files\n\u001b[1;32m    315\u001b[0m path_save_post \u001b[39m=\u001b[39m os\u001b[39m.\u001b[39mpath\u001b[39m.\u001b[39mjoin(output_dir, \u001b[39m\"\u001b[39m\u001b[39mpre_polygon.pkl\u001b[39m\u001b[39m\"\u001b[39m)\n",
      "\u001b[0;31mKeyboardInterrupt\u001b[0m: "
     ]
    }
   ],
   "source": [
    "xbd_points_ecmwf = weather.generate_ecmwf_pkl(distance_buffer=5)"
   ]
  },
  {
   "attachments": {},
   "cell_type": "markdown",
   "metadata": {},
   "source": [
    "## Global ISD – weather station data"
   ]
  },
  {
   "cell_type": "code",
   "execution_count": null,
   "metadata": {},
   "outputs": [],
   "source": []
  }
 ],
 "metadata": {
  "kernelspec": {
   "display_name": "gtc_code",
   "language": "python",
   "name": "python3"
  },
  "language_info": {
   "codemirror_mode": {
    "name": "ipython",
    "version": 3
   },
   "file_extension": ".py",
   "mimetype": "text/x-python",
   "name": "python",
   "nbconvert_exporter": "python",
   "pygments_lexer": "ipython3",
   "version": "3.10.9"
  },
  "orig_nbformat": 4
 },
 "nbformat": 4,
 "nbformat_minor": 2
}
